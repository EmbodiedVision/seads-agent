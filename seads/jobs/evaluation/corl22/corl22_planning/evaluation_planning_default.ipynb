{
 "cells": [
  {
   "cell_type": "code",
   "execution_count": null,
   "id": "02d0a746",
   "metadata": {},
   "outputs": [],
   "source": [
    "%load_ext autoreload\n",
    "%autoreload 2\n",
    "\n",
    "import sys\n",
    "from pathlib import Path\n",
    "import pickle\n",
    "import pandas as pd\n",
    "import numpy as np\n",
    "import matplotlib.pyplot as plt\n",
    "from itertools import product\n",
    "from tqdm.notebook import tqdm\n",
    "from joblib import Parallel, delayed\n",
    "\n",
    "parent_path = str(Path(\"../../../../../\").resolve())\n",
    "print(parent_path)\n",
    "sys.path.append(parent_path)\n",
    "\n",
    "from seads import EXPERIMENT_DIR\n",
    "from seads.utils.evaluation import plot_interpolated_performance\n",
    "from seads.jobs.evaluation.load_evaluation_rollouts import load_evaluation_rollouts\n",
    "\n",
    "import matplotlib as mpl\n",
    "mpl.pyplot.rcdefaults()\n",
    "\n",
    "from matplotlib import rc\n",
    "import matplotlib.pyplot as plt\n",
    "\n",
    "%matplotlib inline\n",
    "\n",
    "FIG_SCALE = 3\n",
    "TITLE_FONTSIZE = 18\n",
    "rc('font',**{'family':'sans-serif','sans-serif':['Computer Modern Sans Serif']})\n",
    "rc('text', usetex=True)\n",
    "mpl.rcParams.update({'font.size': 18})"
   ]
  },
  {
   "cell_type": "code",
   "execution_count": null,
   "id": "ce3d96a3",
   "metadata": {},
   "outputs": [],
   "source": [
    "ENVS = [\n",
    "    \"lightsout_cursor\",\n",
    "    \"tileswap_cursor\",\n",
    "    \"lightsout_reacher\",\n",
    "    \"tileswap_reacher\",\n",
    "    \"lightsout_jaco\",\n",
    "    \"tileswap_jaco\",\n",
    "]\n",
    "\n",
    "def load_seads_data():\n",
    "    n_seeds = 10\n",
    "    run_stem_list = [\n",
    "        f\"corl22_{env}_default\" for env in ENVS\n",
    "    ]\n",
    "    n_rollouts_per_depth = 20\n",
    "    return load_evaluation_rollouts(run_stem_list, n_seeds, n_rollouts_per_depth, keep_episodes=False)"
   ]
  },
  {
   "cell_type": "code",
   "execution_count": null,
   "id": "30162412",
   "metadata": {},
   "outputs": [],
   "source": [
    "seads_df_agg, seads_df_all = load_seads_data()\n",
    "seads_df_all_replanning = seads_df_all[seads_df_all[\"replanning\"] == True]\n",
    "seads_df_all_noreplanning = seads_df_all[seads_df_all[\"replanning\"] == False]"
   ]
  },
  {
   "cell_type": "code",
   "execution_count": null,
   "id": "d350489d",
   "metadata": {},
   "outputs": [],
   "source": [
    "sanity_df = seads_df_agg.groupby([\"run_stem\", \"run_seed\", \"replanning\", \"ckpt_step\"]).size().reset_index()\n",
    "sanity_df[sanity_df.loc[:, 0] != 100]"
   ]
  },
  {
   "cell_type": "code",
   "execution_count": null,
   "id": "acbce0eb",
   "metadata": {},
   "outputs": [],
   "source": [
    "pd.set_option('display.max_rows', 500)"
   ]
  },
  {
   "cell_type": "markdown",
   "id": "20c296f9",
   "metadata": {},
   "source": [
    "## Success rate evaluation"
   ]
  },
  {
   "cell_type": "code",
   "execution_count": null,
   "id": "e043fad4",
   "metadata": {},
   "outputs": [],
   "source": [
    "SEEDS_TO_RETAIN = list(range(1, 11))\n",
    "\n",
    "plot_kwargs = {\n",
    "    \"value_column_name\":\"mean_val_success_rate\",\n",
    "    \"plot_percent\": True\n",
    "}\n",
    "\n",
    "figsize=(1 * FIG_SCALE * 5.4, 0.6 * FIG_SCALE)\n",
    "fig, ax_arr = plt.subplots(nrows=1, ncols=len(ENVS), figsize=figsize, sharex=False, sharey=True, squeeze=False)\n",
    "\n",
    "for ax in ax_arr.flatten():\n",
    "    ax.set_ylim(-5, 105)\n",
    "\n",
    "labels = []\n",
    "artists = []\n",
    "\n",
    "for idx, env in enumerate(ENVS):\n",
    "    game, manip = env.split(\"_\")\n",
    "    env_name = {\"lightsout\": \"LightsOut\", \"tileswap\": \"TileSwap\"}[game] + manip.capitalize()\n",
    "    \n",
    "    if manip == \"cursor\":\n",
    "        max_env_steps = int(5e5)\n",
    "        xticks = [0, 5e5]\n",
    "        xticklabels = [\"$0$\", \"0.5M\"]\n",
    "    elif manip in [\"reacher\", \"jaco\"]:\n",
    "        max_env_steps = int(1e7)\n",
    "        xticks = [0, 0.5e7, 1e7]\n",
    "        xticklabels = [\"0\", \"5M\", \"10M\"]\n",
    "    else:\n",
    "        raise ValueError\n",
    "    \n",
    "    if idx == 0:\n",
    "        legend_lists = [artists,labels]\n",
    "    else:\n",
    "        legend_lists = None\n",
    "    \n",
    "    ax = ax_arr[0, idx]\n",
    "    ax.set_title(env_name, fontsize=TITLE_FONTSIZE)\n",
    "    d = plot_interpolated_performance(\n",
    "        ax, seads_df_all_replanning, f\"corl22_{env}_default\",\n",
    "        label=\"SEADS (replan.)\", legend_lists=legend_lists,\n",
    "        max_env_steps=max_env_steps, seeds_to_retain=SEEDS_TO_RETAIN, **plot_kwargs)\n",
    "    plot_interpolated_performance(\n",
    "        ax, seads_df_all_noreplanning, f\"corl22_{env}_default\",\n",
    "        label=\"SEADS (no replan.)\", legend_lists=legend_lists,\n",
    "        max_env_steps=max_env_steps, seeds_to_retain=SEEDS_TO_RETAIN, **plot_kwargs)\n",
    "    ax.set_xlabel(\"Env. steps\")\n",
    "    if idx == 0:\n",
    "        ax.set_ylabel(r\"Success rate (\\%)\")  \n",
    "    else:\n",
    "        ax.set_ylabel(r\"\")  \n",
    "    ax.set_xticks(xticks) \n",
    "    ax.set_xticklabels(xticklabels)\n",
    "    xticks = ax.xaxis.get_majorticklabels()\n",
    "\n",
    "plt.subplots_adjust(hspace=0.5)\n",
    "\n",
    "ax_arr[0,0].legend(artists, labels, fontsize=TITLE_FONTSIZE, ncol=4, loc=\"lower center\", bbox_to_anchor=(3,-1))\n",
    "plt.savefig(\"generated/successrate_seads_default.png\", bbox_inches='tight')"
   ]
  },
  {
   "cell_type": "code",
   "execution_count": null,
   "id": "ffbd994c",
   "metadata": {},
   "outputs": [],
   "source": []
  }
 ],
 "metadata": {
  "kernelspec": {
   "display_name": "Python 3 (ipykernel)",
   "language": "python",
   "name": "python3"
  },
  "language_info": {
   "codemirror_mode": {
    "name": "ipython",
    "version": 3
   },
   "file_extension": ".py",
   "mimetype": "text/x-python",
   "name": "python",
   "nbconvert_exporter": "python",
   "pygments_lexer": "ipython3",
   "version": "3.8.10"
  }
 },
 "nbformat": 4,
 "nbformat_minor": 5
}
